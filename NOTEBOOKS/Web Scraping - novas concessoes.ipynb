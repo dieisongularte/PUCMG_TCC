{
 "cells": [
  {
   "cell_type": "code",
   "execution_count": 1,
   "metadata": {},
   "outputs": [],
   "source": [
    "import pandas as pd\n",
    "#biblioteca usada para consultar uma URL\n",
    "import urllib.request\n",
    "#funções BeautifulSoup para analisar os dados retornados do site\n",
    "from bs4 import BeautifulSoup"
   ]
  },
  {
   "cell_type": "code",
   "execution_count": 3,
   "metadata": {},
   "outputs": [],
   "source": [
    "#url especificada\n",
    "url = \"https://aplicacoes.mds.gov.br/sagi/cecad20/agregado/resumovariavelCecad.php?uf_ibge=11&nome_estado=&p_ibge=&nome_municipio=Selecione+um+munic%C3%ADpio&id=352#\""
   ]
  },
  {
   "cell_type": "code",
   "execution_count": 3,
   "metadata": {},
   "outputs": [],
   "source": [
    "#Consulte o site e retorne o html para a variável page\n",
    "page = urllib.request.urlopen(url)"
   ]
  },
  {
   "cell_type": "code",
   "execution_count": 4,
   "metadata": {},
   "outputs": [],
   "source": [
    "#armazene-o no formato BeautifulSoup\n",
    "soup = BeautifulSoup(page, 'html5lib')"
   ]
  },
  {
   "cell_type": "code",
   "execution_count": 5,
   "metadata": {},
   "outputs": [],
   "source": [
    "#Para identificar a tabela correta usaremos o atributo class.\n",
    "table = soup.find('table', attrs={'class': 'table table-striped table-hover'})"
   ]
  },
  {
   "cell_type": "code",
   "execution_count": 7,
   "metadata": {
    "scrolled": false
   },
   "outputs": [],
   "source": [
    "#Criar duas listas, uma para o periodo e outra para a quantidade\n",
    "#de novas concessoes\n",
    "A=[]\n",
    "B=[]"
   ]
  },
  {
   "cell_type": "code",
   "execution_count": 8,
   "metadata": {},
   "outputs": [],
   "source": [
    "#Aqui, precisamos iterar através de cada linha (tr) e, em seguida,\n",
    "#atribuir cada elemento de tr a uma variável e anexá-la a uma lista\n",
    "#para acessar o valor de cada elemento, usaremos o método find(text=True) para cada elemento\n",
    "#Na nossa tabela temos 3 celulas, porem so as duas primeiras nos interessa.\n",
    "for row in table.findAll(\"tr\"):\n",
    "    cells = row.findAll('td')\n",
    "    if len(cells) == 3:\n",
    "        A.append(cells[0].find(text=True))\n",
    "        B.append(cells[1].find(text=True))"
   ]
  },
  {
   "cell_type": "code",
   "execution_count": 9,
   "metadata": {},
   "outputs": [],
   "source": [
    "colunas = ['uf_ibge', 'Periodo', 'Quantidade de novas concessoes']\n",
    "df = pd.DataFrame(columns=colunas)"
   ]
  },
  {
   "cell_type": "code",
   "execution_count": 11,
   "metadata": {},
   "outputs": [],
   "source": [
    "#A cada requisicao ao site informar o codigo ibge do estado\n",
    "#com isso teremos a informacao de cada estado no dataframe\n",
    "uf_ibge = 11\n",
    "df['uf_ibge']=uf_ibge\n",
    "df['Periodo']=A\n",
    "df['Quantidade de novas concessoes']=B"
   ]
  },
  {
   "cell_type": "code",
   "execution_count": 1,
   "metadata": {},
   "outputs": [],
   "source": [
    "#Visualizando o resultado\n",
    "df.tail(10)"
   ]
  },
  {
   "cell_type": "code",
   "execution_count": 14,
   "metadata": {
    "scrolled": false
   },
   "outputs": [],
   "source": [
    "#Por fim exportar o dataframa como CSV, com delimitador ;\n",
    "df.to_csv(r'caminho_absoluto\\{uf_ibge}.csv'.format(uf_ibge=uf_ibge), index=False, header=True, sep= ';')"
   ]
  }
 ],
 "metadata": {
  "kernelspec": {
   "display_name": "Python 3",
   "language": "python",
   "name": "python3"
  },
  "language_info": {
   "codemirror_mode": {
    "name": "ipython",
    "version": 3
   },
   "file_extension": ".py",
   "mimetype": "text/x-python",
   "name": "python",
   "nbconvert_exporter": "python",
   "pygments_lexer": "ipython3",
   "version": "3.7.6"
  }
 },
 "nbformat": 4,
 "nbformat_minor": 4
}
